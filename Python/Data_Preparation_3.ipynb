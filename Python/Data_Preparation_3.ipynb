{
 "cells": [
  {
   "cell_type": "code",
   "execution_count": 1,
   "id": "b4752ed7",
   "metadata": {},
   "outputs": [
    {
     "name": "stdout",
     "output_type": "stream",
     "text": [
      "Requirement already satisfied: opencv-python in c:\\programdata\\anaconda3\\lib\\site-packages (4.8.0.76)\n",
      "Requirement already satisfied: numpy>=1.21.2 in c:\\programdata\\anaconda3\\lib\\site-packages (from opencv-python) (1.24.3)\n"
     ]
    }
   ],
   "source": [
    "!pip install opencv-python"
   ]
  },
  {
   "cell_type": "code",
   "execution_count": 95,
   "id": "fb98b4a6",
   "metadata": {},
   "outputs": [],
   "source": [
    "import numpy as np\n",
    "import cv2\n",
    "import matplotlib.pyplot as plt\n",
    "import os\n",
    "\n",
    "Project_Path = \"C:\\\\Users\\\\Othmane Tazi\\\\Desktop\\\\PgProject\"\n",
    "crop_data_path = os.path.join(Project_Path, 'crop_coordinates.csv')\n",
    "input_images_path = os.path.join(Project_Path, 'KinectOutput/Images')\n",
    "output_images_path = os.path.join(Project_Path, 'FormattedImages')"
   ]
  },
  {
   "cell_type": "code",
   "execution_count": 108,
   "id": "78fbbae3",
   "metadata": {},
   "outputs": [],
   "source": [
    "# function to apply the edge highlighting technique\n",
    "def format_hand_image(hand_, x_max, x_min, y_max, y_min):\n",
    "    # calculate crop\n",
    "    x_dist = x_max - x_min\n",
    "    y_dist = y_max - y_min\n",
    "    \n",
    "    dist = max(x_dist, y_dist)\n",
    "    \n",
    "    x_min = max(x_min - 20, 0)\n",
    "    y_min = max(y_min - 20, 0)\n",
    "    \n",
    "    x_max = min(x_min + dist + 40, 1920)\n",
    "    y_max = min(y_min + dist + 40, 1080)\n",
    "    \n",
    "    # apply crop\n",
    "    hand_ =  hand_[y_min:y_max, x_min:x_max]\n",
    "    \n",
    "    #apply gaussian blurr\n",
    "    kernel_size2 = (5, 5)\n",
    "    hand_blurr = cv2.GaussianBlur(hand_, kernel_size2, 0)\n",
    "\n",
    "    # turn to grayscale\n",
    "    hand_gray = cv2.cvtColor(hand_blurr, cv2.COLOR_RGB2GRAY)\n",
    "\n",
    "    # Apply Sobel edge detection in horizontal direction\n",
    "    sobel_x = cv2.Sobel(hand_gray, cv2.CV_64F, 1, 0, ksize=3)\n",
    "\n",
    "    # Apply Sobel edge detection in vertical direction\n",
    "    sobel_y = cv2.Sobel(hand_gray, cv2.CV_64F, 0, 1, ksize=3)\n",
    "\n",
    "    # Combine the horizontal and vertical edge images\n",
    "    hand_edges = cv2.addWeighted(np.absolute(sobel_x), 0.5, np.absolute(sobel_y), 0.5, 0)\n",
    "\n",
    "    #apply thresholding\n",
    "    _, hand_thrshld = cv2.threshold(hand_edges, 31,255,cv2.THRESH_BINARY)\n",
    "    \n",
    "    resized_image = cv2.resize(hand_thrshld, (256, 256))\n",
    "    \n",
    "    return resized_image"
   ]
  },
  {
   "cell_type": "code",
   "execution_count": 112,
   "id": "b28efa47",
   "metadata": {},
   "outputs": [
    {
     "data": {
      "text/plain": [
       "(1475, 5)"
      ]
     },
     "execution_count": 112,
     "metadata": {},
     "output_type": "execute_result"
    }
   ],
   "source": [
    "# get croping data\n",
    "crop_coord = np.genfromtxt(crop_data_path, delimiter=',', dtype=int)\n",
    "indecies = crop_coord[:, 0].astype(int)\n",
    "\n",
    "crop_coord.shape"
   ]
  },
  {
   "cell_type": "code",
   "execution_count": 115,
   "id": "c77f736a",
   "metadata": {},
   "outputs": [],
   "source": [
    "# apply the Edge highliting technique on the images and save them\n",
    "for info in crop_coord:\n",
    "    color_img = cv2.imread(os.path.join(input_images_path, str(info[0])+'.png'))\n",
    "    formated_image = format_hand_image(color_img, info[1], info[2], info[3], info[4])\n",
    "    img_path =  os.path.join(output_images_path, str(info[0])+'.png')\n",
    "    cv2.imwrite(img_path, formated_image)\n",
    "    \n",
    "    "
   ]
  }
 ],
 "metadata": {
  "kernelspec": {
   "display_name": "Python 3 (ipykernel)",
   "language": "python",
   "name": "python3"
  },
  "language_info": {
   "codemirror_mode": {
    "name": "ipython",
    "version": 3
   },
   "file_extension": ".py",
   "mimetype": "text/x-python",
   "name": "python",
   "nbconvert_exporter": "python",
   "pygments_lexer": "ipython3",
   "version": "3.11.4"
  }
 },
 "nbformat": 4,
 "nbformat_minor": 5
}
